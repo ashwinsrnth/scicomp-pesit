{
 "metadata": {
  "name": "delay"
 }, 
 "nbformat": 2, 
 "worksheets": [
  {
   "cells": [
    {
     "cell_type": "code", 
     "collapsed": false, 
     "input": [
      "from scikits.audiolab import *", 
      "import numpy as np", 
      "from matplotlib.pyplot import *", 
      "import matplotlib.pyplot as plt"
     ], 
     "language": "python", 
     "outputs": [], 
     "prompt_number": 14
    }, 
    {
     "cell_type": "markdown", 
     "source": [
      "Read the audiofile (a .wav file, essentially)"
     ]
    }, 
    {
     "cell_type": "code", 
     "collapsed": false, 
     "input": [
      "a = wavread('Varsha.wav')", 
      "print a"
     ], 
     "language": "python", 
     "outputs": [
      {
       "output_type": "stream", 
       "stream": "stdout", 
       "text": [
        "(array([[ 0.        ,  0.        ],", 
        "       [ 0.        ,  0.        ],", 
        "       [ 0.        ,  0.        ],", 
        "       ..., ", 
        "       [-0.00024414, -0.00024414],", 
        "       [-0.00027466, -0.00027466],", 
        "       [-0.00018311, -0.00018311]]), 44100, 'pcm16')"
       ]
      }
     ], 
     "prompt_number": 15
    }, 
    {
     "cell_type": "markdown", 
     "source": [
      "Notice that the 'wavread' function returns a list, the first one is the audio data. It is just a column matrix, with a string of numbers representing the audio.", 
      "Each column is one channel of audio. Since this is a stereo track, this contains 2 channels of audio. We will be using only one channel of audio, hence we will consider only one column."
     ]
    }, 
    {
     "cell_type": "code", 
     "collapsed": true, 
     "input": [
      "input = a[0]", 
      "input = input[:, 0]"
     ], 
     "language": "python", 
     "outputs": [], 
     "prompt_number": 16
    }, 
    {
     "cell_type": "markdown", 
     "source": [
      "Let us just look at the audio file. Graphs are a great way to understand the data you are dealing with"
     ]
    }, 
    {
     "cell_type": "code", 
     "collapsed": false, 
     "input": [
      "plot(input)"
     ], 
     "language": "python", 
     "outputs": [
      {
       "output_type": "pyout", 
       "prompt_number": 17, 
       "text": [
        "[<matplotlib.lines.Line2D at 0x3cefc10>]"
       ]
      }
     ], 
     "prompt_number": 17
    }, 
    {
     "cell_type": "markdown", 
     "source": [
      "The other two things returned is the sampling rate and encoding."
     ]
    }, 
    {
     "cell_type": "code", 
     "collapsed": true, 
     "input": [
      "fs = a[1]  #sample rate in (samples per second)", 
      "enc = a[2] #encoding"
     ], 
     "language": "python", 
     "outputs": [], 
     "prompt_number": 18
    }, 
    {
     "cell_type": "markdown", 
     "source": [
      "Suppose you know how long the delay is supposed to be in seconds, the most basic of all delays is implimented like so,"
     ]
    }, 
    {
     "cell_type": "code", 
     "collapsed": false, 
     "input": [
      "ts = 0.5 #number of seconds of delay", 
      "ns = int(ts*fs) #number of samples of delay", 
      "", 
      "output = np.zeros(len(input))", 
      "for i in range(len(input)):", 
      "    if i<ns:", 
      "        output[i] = 0", 
      "    else:", 
      "        output[i] = input[i-ns]"
     ], 
     "language": "python", 
     "outputs": [], 
     "prompt_number": 19
    }, 
    {
     "cell_type": "markdown", 
     "source": [
      "A simple plot will help make sense of this."
     ]
    }, 
    {
     "cell_type": "code", 
     "collapsed": false, 
     "input": [
      "plt.subplot(2,1,1), plt.plot(input)", 
      "plt.subplot(2,1,2), plt.plot(output)", 
      "plt.show()"
     ], 
     "language": "python", 
     "outputs": [], 
     "prompt_number": 20
    }, 
    {
     "cell_type": "markdown", 
     "source": [
      "I hope you noticed that the output is delayed by a certain amount of time."
     ]
    }, 
    {
     "cell_type": "markdown", 
     "source": [
      "Moving onto a fed-back delay (refer handout), it will be implimented like this."
     ]
    }, 
    {
     "cell_type": "code", 
     "collapsed": true, 
     "input": [
      "output = np.zeros(len(input))", 
      "for i in range(len(input)):", 
      "    if i<ns:", 
      "        output[i] = 0", 
      "    else:", 
      "        output[i] = input[i-ns] + output[i-ns]", 
      "        output[i] = output[i]/2        #Always normalize when dealing with audio"
     ], 
     "language": "python", 
     "outputs": [], 
     "prompt_number": 19
    }, 
    {
     "cell_type": "markdown", 
     "source": [
      "For this, the plot wont make too much sense, but anyways."
     ]
    }, 
    {
     "cell_type": "code", 
     "collapsed": false, 
     "input": [
      "plt.subplot(2,1,1), plt.plot(input)", 
      "plt.subplot(2,1,2), plt.plot(output)", 
      "plt.show()"
     ], 
     "language": "python", 
     "outputs": [
      {
       "output_type": "display_data", 
       "png": "[encoded data removed]"
      }
     ], 
     "prompt_number": 24
    }, 
    {
     "cell_type": "markdown", 
     "source": [
      "It would be more useful to listen to this particular output. So lets store it. I encourage you to listen to it before proceeding."
     ]
    }, 
    {
     "cell_type": "code", 
     "collapsed": true, 
     "input": [
      "wavwrite(output, 'simple_fedback_delay.wav', fs = fs, enc=enc)"
     ], 
     "language": "python", 
     "outputs": [], 
     "prompt_number": 21
    }, 
    {
     "cell_type": "markdown", 
     "source": [
      "In most audio processing, a parameter known as 'feedback' controls how much of the output signal is fed back. It is generally a fraction. So if you were to incorporate that, it will look something like this."
     ]
    }, 
    {
     "cell_type": "code", 
     "collapsed": true, 
     "input": [
      "feedback = 0.2", 
      "", 
      "output = np.zeros(len(input))", 
      "for i in range(len(input)):", 
      "    if i<ns:", 
      "        output[i] = 0", 
      "    else:", 
      "        output[i] = input[i-ns] + feedback*output[i-ns]", 
      "        output[i] = output[i]/(1+feedback)        #Always normalize when dealing with audio"
     ], 
     "language": "python", 
     "outputs": [], 
     "prompt_number": 28
    }, 
    {
     "cell_type": "markdown", 
     "source": [
      "Once again, let us plot this.You might notice the subtle difference here, the output kind of decays in amplitude"
     ]
    }, 
    {
     "cell_type": "code", 
     "collapsed": false, 
     "input": [
      "plt.subplot(2,1,1), plt.plot(input)", 
      "plt.subplot(2,1,2), plt.plot(output)", 
      "plt.show()"
     ], 
     "language": "python", 
     "outputs": [
      {
       "output_type": "display_data", 
       "png": "[encoded data removed]"
      }
     ], 
     "prompt_number": 29
    }, 
    {
     "cell_type": "markdown", 
     "source": [
      "Now that the basics are set, let us move on to create a neat little function which will overlay the delay effect on top of the original sound sample."
     ]
    }, 
    {
     "cell_type": "code", 
     "collapsed": true, 
     "input": [
      "def delay(input, delay_time, fs, feedback, dry, wet):", 
      "\t#Parameters:", 
      "\t# input\t\t-\tarray (single column) containing audio data", 
      "\t# delay_time\t-\tin seconds", 
      "        # fs            -       sample rate of the input audio (in samples per second)", 
      "\t# feedback\t-\thow much of the output is fed back into the delay (0-1)", 
      "\t# dry\t\t-\tthe level of the unaffected audio (0-1)", 
      "\t# wet\t\t-\tthe level of the effect in the output (0-1)", 
      "\t", 
      "\tds = int(delay_time*fs)\t#delay time in terms of samples", 
      "\tL = len(input)", 
      "", 
      "\toutput = np.zeros([L])", 
      "", 
      "\tfor i in range(len(output)):", 
      "\t\tif i<ds-1:", 
      "\t\t\toutput[i] = input[i]*dry", 
      "\t\tif i>ds-1 and i<L-1:", 
      "                        #First construct the delay signal (as before)", 
      "                        delay = input[i-ns] + feedback*output[i-ns]", 
      "                        delay = delay/(1+feedback)       #Normalize", 
      "\t\t\t#Now add it to your input signal", 
      "                        output[i] = input[i]*dry + delay*wet", 
      "\t\t\toutput[i] = output[i]/(dry + wet) #Normalize", 
      "", 
      "\treturn output"
     ], 
     "language": "python", 
     "outputs": [], 
     "prompt_number": 34
    }, 
    {
     "cell_type": "markdown", 
     "source": [
      "The only addition to the previous concepts here is the additional dry/wet control. ", 
      "The dry is simply the unaffected signal, the same as the input.", 
      "The wet is the affected signal, in this case,the echoes.", 
      "By setting these parameters, you basically control how loud the echoes are with respect to the original sound.", 
      "This is fairly common in most audio effects."
     ]
    }, 
    {
     "cell_type": "code", 
     "collapsed": true, 
     "input": [
      "output = delay(input, ts, fs, 0.5, 1, 0.5)"
     ], 
     "language": "python", 
     "outputs": [], 
     "prompt_number": 35
    }, 
    {
     "cell_type": "markdown", 
     "source": [
      "Time to listen again."
     ]
    }, 
    {
     "cell_type": "code", 
     "collapsed": true, 
     "input": [
      "wavwrite(output, 'fedback_delay_final.wav', fs = fs, enc=enc)"
     ], 
     "language": "python", 
     "outputs": [], 
     "prompt_number": 40
    }, 
    {
     "cell_type": "markdown", 
     "source": [
      "If you really want to understand the parameters like dry, wet and feedback, i suggest experimenting with them and listening to the respective outputs. No amount of equations or graphs can help you understand audio effects the way your ears can."
     ]
    }
   ]
  }
 ]
}