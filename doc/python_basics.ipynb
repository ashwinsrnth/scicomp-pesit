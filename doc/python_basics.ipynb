{
 "metadata": {
  "name": "python_basics"
 }, 
 "nbformat": 2, 
 "worksheets": [
  {
   "cells": [
    {
     "cell_type": "markdown", 
     "source": [
      "# Python basics"
     ]
    }, 
    {
     "cell_type": "markdown", 
     "source": [
      "### Welcome to the interactive session!"
     ]
    }, 
    {
     "cell_type": "markdown", 
     "source": [
      "In the interactive session, you can type in **statements** one by one, and see the output immediately below:", 
      "", 
      " ", 
      "`In [1] print 1+1`", 
      "", 
      "        2"
     ]
    }, 
    {
     "cell_type": "code", 
     "collapsed": true, 
     "input": [
      "# This is a comment. Nothing happens when Python encounters this line"
     ], 
     "language": "python", 
     "outputs": [], 
     "prompt_number": 3
    }, 
    {
     "cell_type": "code", 
     "collapsed": true, 
     "input": [
      "# To put more than one statement in the same line, separate them with a semicolon (;)"
     ], 
     "language": "python", 
     "outputs": [], 
     "prompt_number": 6
    }, 
    {
     "cell_type": "code", 
     "collapsed": false, 
     "input": [
      "print 1+1; print 0.5*0.2; print 'Monty'"
     ], 
     "language": "python", 
     "outputs": [
      {
       "output_type": "stream", 
       "stream": "stdout", 
       "text": [
        "2", 
        "0.1", 
        "Monty"
       ]
      }
     ], 
     "prompt_number": 7
    }, 
    {
     "cell_type": "markdown", 
     "source": [
      "### Values and types"
     ]
    }, 
    {
     "cell_type": "markdown", 
     "source": [
      "A **value** is one of the basic things a program works with, like a letter or a number. Every value is associated with", 
      "a **type** in Python. Here are some values and their associated types:"
     ]
    }, 
    {
     "cell_type": "code", 
     "collapsed": false, 
     "input": [
      "print 1, type(1)"
     ], 
     "language": "python", 
     "outputs": [
      {
       "output_type": "stream", 
       "stream": "stdout", 
       "text": [
        "1 <type 'int'>"
       ]
      }
     ], 
     "prompt_number": 8
    }, 
    {
     "cell_type": "code", 
     "collapsed": false, 
     "input": [
      "print 'African Swallow', type('African Swallow')"
     ], 
     "language": "python", 
     "outputs": [
      {
       "output_type": "stream", 
       "stream": "stdout", 
       "text": [
        "African Swallow <type 'str'>"
       ]
      }
     ], 
     "prompt_number": 9
    }, 
    {
     "cell_type": "code", 
     "collapsed": false, 
     "input": [
      "print 0.2, type(0.2)"
     ], 
     "language": "python", 
     "outputs": [
      {
       "output_type": "stream", 
       "stream": "stdout", 
       "text": [
        "0.2 <type 'float'>"
       ]
      }
     ], 
     "prompt_number": 10
    }, 
    {
     "cell_type": "code", 
     "collapsed": false, 
     "input": [
      "print (1 == 2), type(1 == 2)"
     ], 
     "language": "python", 
     "outputs": [
      {
       "output_type": "stream", 
       "stream": "stdout", 
       "text": [
        "False <type 'bool'>"
       ]
      }
     ], 
     "prompt_number": 13
    }, 
    {
     "cell_type": "markdown", 
     "source": [
      "### Variables", 
      "", 
      "One of the most powerful features of a programming language is the ability to manipulate **variables**.", 
      "A variable is a name that refers to a value.", 
      "An *assignment statement* creates new variables and gives them values:"
     ]
    }, 
    {
     "cell_type": "code", 
     "collapsed": false, 
     "input": [
      "a = 1.0", 
      "msg = 'That''s an Error!'", 
      "print a, msg"
     ], 
     "language": "python", 
     "outputs": [
      {
       "output_type": "stream", 
       "stream": "stdout", 
       "text": [
        "1.0 Thats an Error!"
       ]
      }
     ], 
     "prompt_number": 17
    }, 
    {
     "cell_type": "markdown", 
     "source": [
      "There are the usual rules for variable names in Python"
     ]
    }, 
    {
     "cell_type": "markdown", 
     "source": [
      "### Data types and dynamic typing:"
     ]
    }, 
    {
     "cell_type": "markdown", 
     "source": [
      "**`x`** is an object, assigned type **`int`**. But Python has a neat feature called *dynamic typing* that lets", 
      "`x` change its type as and when required. This may not impress you very much right now, but later on we'll ", 
      "see how useful it can be!"
     ]
    }, 
    {
     "cell_type": "code", 
     "collapsed": false, 
     "input": [
      "x = 1; y = 2.4; print type(x), type(y)"
     ], 
     "language": "python", 
     "outputs": [
      {
       "output_type": "stream", 
       "stream": "stdout", 
       "text": [
        "<type 'int'> <type 'float'>"
       ]
      }
     ], 
     "prompt_number": 18
    }, 
    {
     "cell_type": "code", 
     "collapsed": true, 
     "input": [
      "x = x*y"
     ], 
     "language": "python", 
     "outputs": [], 
     "prompt_number": 19
    }, 
    {
     "cell_type": "code", 
     "collapsed": false, 
     "input": [
      "print type(x)"
     ], 
     "language": "python", 
     "outputs": [
      {
       "output_type": "stream", 
       "stream": "stdout", 
       "text": [
        "<type 'float'>"
       ]
      }
     ], 
     "prompt_number": 20
    }, 
    {
     "cell_type": "code", 
     "collapsed": true, 
     "input": [
      "s = (1 == 2)"
     ], 
     "language": "python", 
     "outputs": [], 
     "prompt_number": 16
    }, 
    {
     "cell_type": "markdown", 
     "source": [
      "### Operations", 
      "", 
      "`+, -, *, /` and `**` are for addition, subtraction, multiplication, division and ", 
      "exponentiaton respectively.", 
      "", 
      "", 
      "Bear in mind that this is only when the operands are `ints`, or `floats`."
     ]
    }, 
    {
     "cell_type": "code", 
     "collapsed": false, 
     "input": [
      "1/2 # Python < 3"
     ], 
     "language": "python", 
     "outputs": [
      {
       "output_type": "pyout", 
       "prompt_number": 64, 
       "text": [
        "0"
       ]
      }
     ], 
     "prompt_number": 64
    }, 
    {
     "cell_type": "code", 
     "collapsed": false, 
     "input": [
      "1/2.0"
     ], 
     "language": "python", 
     "outputs": [
      {
       "output_type": "pyout", 
       "prompt_number": 25, 
       "text": [
        "0.5"
       ]
      }
     ], 
     "prompt_number": 25
    }, 
    {
     "cell_type": "code", 
     "collapsed": false, 
     "input": [
      "print 'Monty' + 'Python', 4*'Ha'"
     ], 
     "language": "python", 
     "outputs": [
      {
       "output_type": "stream", 
       "stream": "stdout", 
       "text": [
        "MontyPython HaHaHaHa"
       ]
      }
     ], 
     "prompt_number": 63
    }, 
    {
     "cell_type": "markdown", 
     "source": [
      "### Lists"
     ]
    }, 
    {
     "cell_type": "code", 
     "collapsed": false, 
     "input": [
      "x = [1, 4, 'spam', 2.0, True]; print type(x)"
     ], 
     "language": "python", 
     "outputs": [
      {
       "output_type": "stream", 
       "stream": "stdout", 
       "text": [
        "<type 'list'>"
       ]
      }
     ], 
     "prompt_number": 45
    }, 
    {
     "cell_type": "code", 
     "collapsed": false, 
     "input": [
      "l = range(4); print l; print type(l) # range is a Python function"
     ], 
     "language": "python", 
     "outputs": [
      {
       "output_type": "stream", 
       "stream": "stdout", 
       "text": [
        "[0, 1, 2, 3]", 
        "<type 'list'>"
       ]
      }
     ], 
     "prompt_number": 31
    }, 
    {
     "cell_type": "code", 
     "collapsed": false, 
     "input": [
      "print x[0], x[2], x[4], x[-1], x[-3]"
     ], 
     "language": "python", 
     "outputs": [
      {
       "output_type": "stream", 
       "stream": "stdout", 
       "text": [
        "1 spam True True spam"
       ]
      }
     ], 
     "prompt_number": 53
    }, 
    {
     "cell_type": "markdown", 
     "source": [
      "### Conditionals and loops"
     ]
    }, 
    {
     "cell_type": "code", 
     "collapsed": true, 
     "input": [
      "x = 7"
     ], 
     "language": "python", 
     "outputs": [], 
     "prompt_number": 34
    }, 
    {
     "cell_type": "code", 
     "collapsed": false, 
     "input": [
      "if x%2 == 0:", 
      "    print x, ' is even'", 
      "else:", 
      "    print x, ' is odd'"
     ], 
     "language": "python", 
     "outputs": [
      {
       "output_type": "stream", 
       "stream": "stdout", 
       "text": [
        "7  is odd"
       ]
      }
     ], 
     "prompt_number": 35
    }, 
    {
     "cell_type": "markdown", 
     "source": [
      "In other programming languages, indentation as in the above is merely \"good practice\". In python, it is ", 
      "*essential*."
     ]
    }, 
    {
     "cell_type": "code", 
     "collapsed": true, 
     "input": [
      "l = [4.0, 'Camelot', True, [1,2,3]]"
     ], 
     "language": "python", 
     "outputs": [], 
     "prompt_number": 37
    }, 
    {
     "cell_type": "code", 
     "collapsed": false, 
     "input": [
      "for each_thing in l:", 
      "    print each_thing"
     ], 
     "language": "python", 
     "outputs": [
      {
       "output_type": "stream", 
       "stream": "stdout", 
       "text": [
        "4.0", 
        "Camelot", 
        "True", 
        "[1, 2, 3]"
       ]
      }
     ], 
     "prompt_number": 39
    }, 
    {
     "cell_type": "code", 
     "collapsed": false, 
     "input": [
      "for i in range(5):", 
      "    print 2*i"
     ], 
     "language": "python", 
     "outputs": [
      {
       "output_type": "stream", 
       "stream": "stdout", 
       "text": [
        "0", 
        "2", 
        "4", 
        "6", 
        "8"
       ]
      }
     ], 
     "prompt_number": 40
    }, 
    {
     "cell_type": "code", 
     "collapsed": true, 
     "input": [
      "x = [1, 6, 4, 1]"
     ], 
     "language": "python", 
     "outputs": [], 
     "prompt_number": 55
    }, 
    {
     "cell_type": "code", 
     "collapsed": true, 
     "input": [
      "for i in range(len(x)):", 
      "    print x[i] + 1"
     ], 
     "language": "python", 
     "outputs": [
      {
       "output_type": "stream", 
       "stream": "stdout", 
       "text": [
        "2", 
        "7", 
        "5", 
        "2"
       ]
      }
     ], 
     "prompt_number": 56
    }, 
    {
     "cell_type": "markdown", 
     "source": [
      "### Adding vectors in pure Python", 
      "", 
      "Consider the vectors `a = [1, 4, 2]` and `b = [4, 3.5, 1]`. ", 
      "Represent them as Python lists and write a loop to perform vector addition. ", 
      "", 
      "Note that `a + b` simply concatenates the two lists"
     ]
    }, 
    {
     "cell_type": "markdown", 
     "source": [
      "### Highest palindromic product"
     ]
    }, 
    {
     "cell_type": "markdown", 
     "source": [
      "Find the largest palindrome made from the product of two three digit numbers"
     ]
    }, 
    {
     "cell_type": "code", 
     "collapsed": true, 
     "input": [], 
     "language": "python", 
     "outputs": []
    }, 
    {
     "cell_type": "markdown", 
     "source": [
      "### Functions"
     ]
    }
   ]
  }
 ]
}