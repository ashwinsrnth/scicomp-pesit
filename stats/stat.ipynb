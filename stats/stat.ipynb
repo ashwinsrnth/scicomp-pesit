{
 "metadata": {
  "name": "stat"
 }, 
 "nbformat": 2, 
 "worksheets": [
  {
   "cells": [
    {
     "cell_type": "code", 
     "collapsed": true, 
     "input": [
      "import pandas as pd"
     ], 
     "language": "python", 
     "outputs": [], 
     "prompt_number": 32
    }, 
    {
     "cell_type": "code", 
     "collapsed": true, 
     "input": [
      "dat = pd.read_csv('data/cellphoneper100.csv',encoding='utf-8')"
     ], 
     "language": "python", 
     "outputs": [], 
     "prompt_number": 33
    }, 
    {
     "cell_type": "code", 
     "collapsed": true, 
     "input": [
      "dat = dat.set_index('Country')"
     ], 
     "language": "python", 
     "outputs": [], 
     "prompt_number": 40
    }, 
    {
     "cell_type": "code", 
     "collapsed": false, 
     "input": [
      "algeria_dat = array(dat.loc[['Algeria'],'2000':'2010']).ravel()"
     ], 
     "language": "python", 
     "outputs": [], 
     "prompt_number": 91
    }, 
    {
     "cell_type": "code", 
     "collapsed": false, 
     "input": [
      "plot(range(2000,2011), algeria_dat)"
     ], 
     "language": "python", 
     "outputs": [
      {
       "output_type": "pyout", 
       "prompt_number": 92, 
       "text": [
        "[<matplotlib.lines.Line2D at 0x4d88550>]"
       ]
      }, 
      {
       "output_type": "display_data", 
       "png": "[encoded data removed]"
      }
     ], 
     "prompt_number": 92
    }, 
    {
     "cell_type": "code", 
     "collapsed": false, 
     "input": [
      "dat[0:5]"
     ], 
     "language": "python", 
     "outputs": [
      {
       "html": [
        "<pre>", 
        "&lt;class 'pandas.core.frame.DataFrame'&gt;", 
        "Int64Index: 5 entries, 0 to 4", 
        "Data columns (total 48 columns):", 
        "Country    5  non-null values", 
        "1965       3  non-null values", 
        "1966       0  non-null values", 
        "1967       0  non-null values", 
        "1968       0  non-null values", 
        "1969       0  non-null values", 
        "1970       3  non-null values", 
        "1971       0  non-null values", 
        "1972       0  non-null values", 
        "1973       0  non-null values", 
        "1974       0  non-null values", 
        "1975       3  non-null values", 
        "1976       3  non-null values", 
        "1977       3  non-null values", 
        "1978       3  non-null values", 
        "1979       3  non-null values", 
        "1980       3  non-null values", 
        "1981       3  non-null values", 
        "1982       3  non-null values", 
        "1983       3  non-null values", 
        "1984       3  non-null values", 
        "1985       3  non-null values", 
        "1986       3  non-null values", 
        "1987       3  non-null values", 
        "1988       3  non-null values", 
        "1989       3  non-null values", 
        "1990       3  non-null values", 
        "1991       3  non-null values", 
        "1992       3  non-null values", 
        "1993       3  non-null values", 
        "1994       3  non-null values", 
        "1995       3  non-null values", 
        "1996       3  non-null values", 
        "1997       3  non-null values", 
        "1998       3  non-null values", 
        "1999       3  non-null values", 
        "2000       3  non-null values", 
        "2001       3  non-null values", 
        "2002       3  non-null values", 
        "2003       3  non-null values", 
        "2004       3  non-null values", 
        "2005       3  non-null values", 
        "2006       3  non-null values", 
        "2007       3  non-null values", 
        "2008       3  non-null values", 
        "2009       3  non-null values", 
        "2010       3  non-null values", 
        "2011       3  non-null values", 
        "dtypes: float64(47), object(1)", 
        "</pre>"
       ], 
       "output_type": "pyout", 
       "prompt_number": 10, 
       "text": [
        "<class 'pandas.core.frame.DataFrame'>", 
        "Int64Index: 5 entries, 0 to 4", 
        "Data columns (total 48 columns):", 
        "Country    5  non-null values", 
        "1965       3  non-null values", 
        "1966       0  non-null values", 
        "1967       0  non-null values", 
        "1968       0  non-null values", 
        "1969       0  non-null values", 
        "1970       3  non-null values", 
        "1971       0  non-null values", 
        "1972       0  non-null values", 
        "1973       0  non-null values", 
        "1974       0  non-null values", 
        "1975       3  non-null values", 
        "1976       3  non-null values", 
        "1977       3  non-null values", 
        "1978       3  non-null values", 
        "1979       3  non-null values", 
        "1980       3  non-null values", 
        "1981       3  non-null values", 
        "1982       3  non-null values", 
        "1983       3  non-null values", 
        "1984       3  non-null values", 
        "1985       3  non-null values", 
        "1986       3  non-null values", 
        "1987       3  non-null values", 
        "1988       3  non-null values", 
        "1989       3  non-null values", 
        "1990       3  non-null values", 
        "1991       3  non-null values", 
        "1992       3  non-null values", 
        "1993       3  non-null values", 
        "1994       3  non-null values", 
        "1995       3  non-null values", 
        "1996       3  non-null values", 
        "1997       3  non-null values", 
        "1998       3  non-null values", 
        "1999       3  non-null values", 
        "2000       3  non-null values", 
        "2001       3  non-null values", 
        "2002       3  non-null values", 
        "2003       3  non-null values", 
        "2004       3  non-null values", 
        "2005       3  non-null values", 
        "2006       3  non-null values", 
        "2007       3  non-null values", 
        "2008       3  non-null values", 
        "2009       3  non-null values", 
        "2010       3  non-null values", 
        "2011       3  non-null values", 
        "dtypes: float64(47), object(1)"
       ]
      }
     ], 
     "prompt_number": 10
    }, 
    {
     "cell_type": "code", 
     "collapsed": false, 
     "input": [
      "dat.loc['United States']"
     ], 
     "language": "python", 
     "outputs": [
      {
       "output_type": "pyout", 
       "prompt_number": 48, 
       "text": [
        "1965      0.000000", 
        "1966           NaN", 
        "1967           NaN", 
        "1968           NaN", 
        "1969           NaN", 
        "1970      0.000000", 
        "1971           NaN", 
        "1972           NaN", 
        "1973           NaN", 
        "1974           NaN", 
        "1975      0.000000", 
        "1976      0.000000", 
        "1977      0.000000", 
        "1978      0.000000", 
        "1979      0.000000", 
        "1980      0.000000", 
        "1981           NaN", 
        "1982           NaN", 
        "1983           NaN", 
        "1984      0.038359", 
        "1985      0.141097", 
        "1986      0.280015", 
        "1987      0.500508", 
        "1988      0.833170", 
        "1989      1.398778", 
        "1990      2.085369", 
        "1991      2.954234", 
        "1992      4.271692", 
        "1993      6.138520", 
        "1994      9.160251", 
        "1995     12.685938", 
        "1996     16.348936", 
        "1997     20.287418", 
        "1998     25.077106", 
        "1999     30.808089", 
        "2000     38.753792", 
        "2001     45.001698", 
        "2002     49.156350", 
        "2003     55.146605", 
        "2004     62.850112", 
        "2005     68.627383", 
        "2006     76.644603", 
        "2007     82.471958", 
        "2008     85.675203", 
        "2009     89.149116", 
        "2010     89.856451", 
        "2011    105.913601", 
        "Name: United States, dtype: float64"
       ]
      }
     ], 
     "prompt_number": 48
    }, 
    {
     "cell_type": "code", 
     "collapsed": false, 
     "input": [
      "dat.loc[['Algeria','India', 'United States'],'2012']"
     ], 
     "language": "python", 
     "outputs": [
      {
       "ename": "KeyError", 
       "evalue": "u'no item named 2012'", 
       "output_type": "pyerr", 
       "traceback": [
        "\u001b[0;31m---------------------------------------------------------------------------\u001b[0m\n\u001b[0;31mKeyError\u001b[0m                                  Traceback (most recent call last)", 
        "\u001b[0;32m/home/ashwin/workspace/pesit/stat/<ipython-input-70-67a74ebda762>\u001b[0m in \u001b[0;36m<module>\u001b[0;34m()\u001b[0m\n\u001b[0;32m----> 1\u001b[0;31m \u001b[0mdat\u001b[0m\u001b[0;34m.\u001b[0m\u001b[0mloc\u001b[0m\u001b[0;34m[\u001b[0m\u001b[0;34m[\u001b[0m\u001b[0;34m'Algeria'\u001b[0m\u001b[0;34m,\u001b[0m\u001b[0;34m'India'\u001b[0m\u001b[0;34m,\u001b[0m \u001b[0;34m'United States'\u001b[0m\u001b[0;34m]\u001b[0m\u001b[0;34m,\u001b[0m\u001b[0;34m'2012'\u001b[0m\u001b[0;34m]\u001b[0m\u001b[0;34m\u001b[0m\u001b[0m\n\u001b[0m", 
        "\u001b[0;32m/usr/lib/pymodules/python2.7/pandas/core/indexing.pyc\u001b[0m in \u001b[0;36m__getitem__\u001b[0;34m(self, key)\u001b[0m\n\u001b[1;32m    695\u001b[0m     \u001b[0;32mdef\u001b[0m \u001b[0m__getitem__\u001b[0m\u001b[0;34m(\u001b[0m\u001b[0mself\u001b[0m\u001b[0;34m,\u001b[0m \u001b[0mkey\u001b[0m\u001b[0;34m)\u001b[0m\u001b[0;34m:\u001b[0m\u001b[0;34m\u001b[0m\u001b[0m\n\u001b[1;32m    696\u001b[0m         \u001b[0;32mif\u001b[0m \u001b[0mtype\u001b[0m\u001b[0;34m(\u001b[0m\u001b[0mkey\u001b[0m\u001b[0;34m)\u001b[0m \u001b[0;32mis\u001b[0m \u001b[0mtuple\u001b[0m\u001b[0;34m:\u001b[0m\u001b[0;34m\u001b[0m\u001b[0m\n\u001b[0;32m--> 697\u001b[0;31m             \u001b[0;32mreturn\u001b[0m \u001b[0mself\u001b[0m\u001b[0;34m.\u001b[0m\u001b[0m_getitem_tuple\u001b[0m\u001b[0;34m(\u001b[0m\u001b[0mkey\u001b[0m\u001b[0;34m)\u001b[0m\u001b[0;34m\u001b[0m\u001b[0m\n\u001b[0m\u001b[1;32m    698\u001b[0m         \u001b[0;32melse\u001b[0m\u001b[0;34m:\u001b[0m\u001b[0;34m\u001b[0m\u001b[0m\n\u001b[1;32m    699\u001b[0m             \u001b[0;32mreturn\u001b[0m \u001b[0mself\u001b[0m\u001b[0;34m.\u001b[0m\u001b[0m_getitem_axis\u001b[0m\u001b[0;34m(\u001b[0m\u001b[0mkey\u001b[0m\u001b[0;34m,\u001b[0m \u001b[0maxis\u001b[0m\u001b[0;34m=\u001b[0m\u001b[0;36m0\u001b[0m\u001b[0;34m)\u001b[0m\u001b[0;34m\u001b[0m\u001b[0m\n", 
        "\u001b[0;32m/usr/lib/pymodules/python2.7/pandas/core/indexing.pyc\u001b[0m in \u001b[0;36m_getitem_tuple\u001b[0;34m(self, tup)\u001b[0m\n\u001b[1;32m    251\u001b[0m     \u001b[0;32mdef\u001b[0m \u001b[0m_getitem_tuple\u001b[0m\u001b[0;34m(\u001b[0m\u001b[0mself\u001b[0m\u001b[0;34m,\u001b[0m \u001b[0mtup\u001b[0m\u001b[0;34m)\u001b[0m\u001b[0;34m:\u001b[0m\u001b[0;34m\u001b[0m\u001b[0m\n\u001b[1;32m    252\u001b[0m         \u001b[0;32mtry\u001b[0m\u001b[0;34m:\u001b[0m\u001b[0;34m\u001b[0m\u001b[0m\n\u001b[0;32m--> 253\u001b[0;31m             \u001b[0;32mreturn\u001b[0m \u001b[0mself\u001b[0m\u001b[0;34m.\u001b[0m\u001b[0m_getitem_lowerdim\u001b[0m\u001b[0;34m(\u001b[0m\u001b[0mtup\u001b[0m\u001b[0;34m)\u001b[0m\u001b[0;34m\u001b[0m\u001b[0m\n\u001b[0m\u001b[1;32m    254\u001b[0m         \u001b[0;32mexcept\u001b[0m \u001b[0mIndexingError\u001b[0m\u001b[0;34m:\u001b[0m\u001b[0;34m\u001b[0m\u001b[0m\n\u001b[1;32m    255\u001b[0m             \u001b[0;32mpass\u001b[0m\u001b[0;34m\u001b[0m\u001b[0m\n", 
        "\u001b[0;32m/usr/lib/pymodules/python2.7/pandas/core/indexing.pyc\u001b[0m in \u001b[0;36m_getitem_lowerdim\u001b[0;34m(self, tup)\u001b[0m\n\u001b[1;32m    361\u001b[0m         \u001b[0;32mfor\u001b[0m \u001b[0mi\u001b[0m\u001b[0;34m,\u001b[0m \u001b[0mkey\u001b[0m \u001b[0;32min\u001b[0m \u001b[0menumerate\u001b[0m\u001b[0;34m(\u001b[0m\u001b[0mtup\u001b[0m\u001b[0;34m)\u001b[0m\u001b[0;34m:\u001b[0m\u001b[0;34m\u001b[0m\u001b[0m\n\u001b[1;32m    362\u001b[0m             \u001b[0;32mif\u001b[0m \u001b[0m_is_label_like\u001b[0m\u001b[0;34m(\u001b[0m\u001b[0mkey\u001b[0m\u001b[0;34m)\u001b[0m \u001b[0;32mor\u001b[0m \u001b[0misinstance\u001b[0m\u001b[0;34m(\u001b[0m\u001b[0mkey\u001b[0m\u001b[0;34m,\u001b[0m \u001b[0mtuple\u001b[0m\u001b[0;34m)\u001b[0m\u001b[0;34m:\u001b[0m\u001b[0;34m\u001b[0m\u001b[0m\n\u001b[0;32m--> 363\u001b[0;31m                 \u001b[0msection\u001b[0m \u001b[0;34m=\u001b[0m \u001b[0mself\u001b[0m\u001b[0;34m.\u001b[0m\u001b[0m_getitem_axis\u001b[0m\u001b[0;34m(\u001b[0m\u001b[0mkey\u001b[0m\u001b[0;34m,\u001b[0m \u001b[0maxis\u001b[0m\u001b[0;34m=\u001b[0m\u001b[0mi\u001b[0m\u001b[0;34m)\u001b[0m\u001b[0;34m\u001b[0m\u001b[0m\n\u001b[0m\u001b[1;32m    364\u001b[0m \u001b[0;34m\u001b[0m\u001b[0m\n\u001b[1;32m    365\u001b[0m                 \u001b[0;31m# we have yielded a scalar ?\u001b[0m\n\u001b[0;34m\u001b[0m\u001b[0m\n", 
        "\u001b[0;32m/usr/lib/pymodules/python2.7/pandas/core/indexing.pyc\u001b[0m in \u001b[0;36m_getitem_axis\u001b[0;34m(self, key, axis)\u001b[0m\n\u001b[1;32m    785\u001b[0m             \u001b[0;32mreturn\u001b[0m \u001b[0mself\u001b[0m\u001b[0;34m.\u001b[0m\u001b[0m_getitem_iterable\u001b[0m\u001b[0;34m(\u001b[0m\u001b[0mkey\u001b[0m\u001b[0;34m,\u001b[0m \u001b[0maxis\u001b[0m\u001b[0;34m=\u001b[0m\u001b[0maxis\u001b[0m\u001b[0;34m)\u001b[0m\u001b[0;34m\u001b[0m\u001b[0m\n\u001b[1;32m    786\u001b[0m         \u001b[0;32melse\u001b[0m\u001b[0;34m:\u001b[0m\u001b[0;34m\u001b[0m\u001b[0m\n\u001b[0;32m--> 787\u001b[0;31m             \u001b[0;32mreturn\u001b[0m \u001b[0mself\u001b[0m\u001b[0;34m.\u001b[0m\u001b[0m_get_label\u001b[0m\u001b[0;34m(\u001b[0m\u001b[0mkey\u001b[0m\u001b[0;34m,\u001b[0m \u001b[0maxis\u001b[0m\u001b[0;34m=\u001b[0m\u001b[0maxis\u001b[0m\u001b[0;34m)\u001b[0m\u001b[0;34m\u001b[0m\u001b[0m\n\u001b[0m\u001b[1;32m    788\u001b[0m \u001b[0;34m\u001b[0m\u001b[0m\n\u001b[1;32m    789\u001b[0m \u001b[0;32mclass\u001b[0m \u001b[0m_iLocIndexer\u001b[0m\u001b[0;34m(\u001b[0m\u001b[0m_LocationIndexer\u001b[0m\u001b[0;34m)\u001b[0m\u001b[0;34m:\u001b[0m\u001b[0;34m\u001b[0m\u001b[0m\n", 
        "\u001b[0;32m/usr/lib/pymodules/python2.7/pandas/core/indexing.pyc\u001b[0m in \u001b[0;36m_get_label\u001b[0;34m(self, label, axis)\u001b[0m\n\u001b[1;32m     59\u001b[0m             \u001b[0;32mreturn\u001b[0m \u001b[0mself\u001b[0m\u001b[0;34m.\u001b[0m\u001b[0mobj\u001b[0m\u001b[0;34m.\u001b[0m\u001b[0m_xs\u001b[0m\u001b[0;34m(\u001b[0m\u001b[0mlabel\u001b[0m\u001b[0;34m,\u001b[0m \u001b[0maxis\u001b[0m\u001b[0;34m=\u001b[0m\u001b[0maxis\u001b[0m\u001b[0;34m,\u001b[0m \u001b[0mcopy\u001b[0m\u001b[0;34m=\u001b[0m\u001b[0mFalse\u001b[0m\u001b[0;34m)\u001b[0m\u001b[0;34m\u001b[0m\u001b[0m\n\u001b[1;32m     60\u001b[0m         \u001b[0;32mexcept\u001b[0m \u001b[0mException\u001b[0m\u001b[0;34m:\u001b[0m\u001b[0;34m\u001b[0m\u001b[0m\n\u001b[0;32m---> 61\u001b[0;31m             \u001b[0;32mreturn\u001b[0m \u001b[0mself\u001b[0m\u001b[0;34m.\u001b[0m\u001b[0mobj\u001b[0m\u001b[0;34m.\u001b[0m\u001b[0m_xs\u001b[0m\u001b[0;34m(\u001b[0m\u001b[0mlabel\u001b[0m\u001b[0;34m,\u001b[0m \u001b[0maxis\u001b[0m\u001b[0;34m=\u001b[0m\u001b[0maxis\u001b[0m\u001b[0;34m,\u001b[0m \u001b[0mcopy\u001b[0m\u001b[0;34m=\u001b[0m\u001b[0mTrue\u001b[0m\u001b[0;34m)\u001b[0m\u001b[0;34m\u001b[0m\u001b[0m\n\u001b[0m\u001b[1;32m     62\u001b[0m \u001b[0;34m\u001b[0m\u001b[0m\n\u001b[1;32m     63\u001b[0m     \u001b[0;32mdef\u001b[0m \u001b[0m_get_loc\u001b[0m\u001b[0;34m(\u001b[0m\u001b[0mself\u001b[0m\u001b[0;34m,\u001b[0m \u001b[0mkey\u001b[0m\u001b[0;34m,\u001b[0m \u001b[0maxis\u001b[0m\u001b[0;34m=\u001b[0m\u001b[0;36m0\u001b[0m\u001b[0;34m)\u001b[0m\u001b[0;34m:\u001b[0m\u001b[0;34m\u001b[0m\u001b[0m\n", 
        "\u001b[0;32m/usr/lib/pymodules/python2.7/pandas/core/frame.pyc\u001b[0m in \u001b[0;36mxs\u001b[0;34m(self, key, axis, level, copy)\u001b[0m\n\u001b[1;32m   2358\u001b[0m \u001b[0;34m\u001b[0m\u001b[0m\n\u001b[1;32m   2359\u001b[0m         \u001b[0;32mif\u001b[0m \u001b[0maxis\u001b[0m \u001b[0;34m==\u001b[0m \u001b[0;36m1\u001b[0m\u001b[0;34m:\u001b[0m\u001b[0;34m\u001b[0m\u001b[0m\n\u001b[0;32m-> 2360\u001b[0;31m             \u001b[0mdata\u001b[0m \u001b[0;34m=\u001b[0m \u001b[0mself\u001b[0m\u001b[0;34m[\u001b[0m\u001b[0mkey\u001b[0m\u001b[0;34m]\u001b[0m\u001b[0;34m\u001b[0m\u001b[0m\n\u001b[0m\u001b[1;32m   2361\u001b[0m             \u001b[0;32mif\u001b[0m \u001b[0mcopy\u001b[0m\u001b[0;34m:\u001b[0m\u001b[0;34m\u001b[0m\u001b[0m\n\u001b[1;32m   2362\u001b[0m                 \u001b[0mdata\u001b[0m \u001b[0;34m=\u001b[0m \u001b[0mdata\u001b[0m\u001b[0;34m.\u001b[0m\u001b[0mcopy\u001b[0m\u001b[0;34m(\u001b[0m\u001b[0;34m)\u001b[0m\u001b[0;34m\u001b[0m\u001b[0m\n", 
        "\u001b[0;32m/usr/lib/pymodules/python2.7/pandas/core/frame.pyc\u001b[0m in \u001b[0;36m__getitem__\u001b[0;34m(self, key)\u001b[0m\n\u001b[1;32m   2001\u001b[0m             \u001b[0;31m# get column\u001b[0m\n\u001b[0;34m\u001b[0m\u001b[0m\n\u001b[1;32m   2002\u001b[0m             \u001b[0;32mif\u001b[0m \u001b[0mself\u001b[0m\u001b[0;34m.\u001b[0m\u001b[0mcolumns\u001b[0m\u001b[0;34m.\u001b[0m\u001b[0mis_unique\u001b[0m\u001b[0;34m:\u001b[0m\u001b[0;34m\u001b[0m\u001b[0m\n\u001b[0;32m-> 2003\u001b[0;31m                 \u001b[0;32mreturn\u001b[0m \u001b[0mself\u001b[0m\u001b[0;34m.\u001b[0m\u001b[0m_get_item_cache\u001b[0m\u001b[0;34m(\u001b[0m\u001b[0mkey\u001b[0m\u001b[0;34m)\u001b[0m\u001b[0;34m\u001b[0m\u001b[0m\n\u001b[0m\u001b[1;32m   2004\u001b[0m \u001b[0;34m\u001b[0m\u001b[0m\n\u001b[1;32m   2005\u001b[0m             \u001b[0;31m# duplicate columns\u001b[0m\n\u001b[0;34m\u001b[0m\u001b[0m\n", 
        "\u001b[0;32m/usr/lib/pymodules/python2.7/pandas/core/generic.pyc\u001b[0m in \u001b[0;36m_get_item_cache\u001b[0;34m(self, item)\u001b[0m\n\u001b[1;32m    665\u001b[0m             \u001b[0;32mreturn\u001b[0m \u001b[0mcache\u001b[0m\u001b[0;34m[\u001b[0m\u001b[0mitem\u001b[0m\u001b[0;34m]\u001b[0m\u001b[0;34m\u001b[0m\u001b[0m\n\u001b[1;32m    666\u001b[0m         \u001b[0;32mexcept\u001b[0m \u001b[0mException\u001b[0m\u001b[0;34m:\u001b[0m\u001b[0;34m\u001b[0m\u001b[0m\n\u001b[0;32m--> 667\u001b[0;31m             \u001b[0mvalues\u001b[0m \u001b[0;34m=\u001b[0m \u001b[0mself\u001b[0m\u001b[0;34m.\u001b[0m\u001b[0m_data\u001b[0m\u001b[0;34m.\u001b[0m\u001b[0mget\u001b[0m\u001b[0;34m(\u001b[0m\u001b[0mitem\u001b[0m\u001b[0;34m)\u001b[0m\u001b[0;34m\u001b[0m\u001b[0m\n\u001b[0m\u001b[1;32m    668\u001b[0m             \u001b[0mres\u001b[0m \u001b[0;34m=\u001b[0m \u001b[0mself\u001b[0m\u001b[0;34m.\u001b[0m\u001b[0m_box_item_values\u001b[0m\u001b[0;34m(\u001b[0m\u001b[0mitem\u001b[0m\u001b[0;34m,\u001b[0m \u001b[0mvalues\u001b[0m\u001b[0;34m)\u001b[0m\u001b[0;34m\u001b[0m\u001b[0m\n\u001b[1;32m    669\u001b[0m             \u001b[0mcache\u001b[0m\u001b[0;34m[\u001b[0m\u001b[0mitem\u001b[0m\u001b[0;34m]\u001b[0m \u001b[0;34m=\u001b[0m \u001b[0mres\u001b[0m\u001b[0;34m\u001b[0m\u001b[0m\n", 
        "\u001b[0;32m/usr/lib/pymodules/python2.7/pandas/core/internals.pyc\u001b[0m in \u001b[0;36mget\u001b[0;34m(self, item)\u001b[0m\n\u001b[1;32m   1653\u001b[0m     \u001b[0;32mdef\u001b[0m \u001b[0mget\u001b[0m\u001b[0;34m(\u001b[0m\u001b[0mself\u001b[0m\u001b[0;34m,\u001b[0m \u001b[0mitem\u001b[0m\u001b[0;34m)\u001b[0m\u001b[0;34m:\u001b[0m\u001b[0;34m\u001b[0m\u001b[0m\n\u001b[1;32m   1654\u001b[0m         \u001b[0;32mif\u001b[0m \u001b[0mself\u001b[0m\u001b[0;34m.\u001b[0m\u001b[0mitems\u001b[0m\u001b[0;34m.\u001b[0m\u001b[0mis_unique\u001b[0m\u001b[0;34m:\u001b[0m\u001b[0;34m\u001b[0m\u001b[0m\n\u001b[0;32m-> 1655\u001b[0;31m             \u001b[0m_\u001b[0m\u001b[0;34m,\u001b[0m \u001b[0mblock\u001b[0m \u001b[0;34m=\u001b[0m \u001b[0mself\u001b[0m\u001b[0;34m.\u001b[0m\u001b[0m_find_block\u001b[0m\u001b[0;34m(\u001b[0m\u001b[0mitem\u001b[0m\u001b[0;34m)\u001b[0m\u001b[0;34m\u001b[0m\u001b[0m\n\u001b[0m\u001b[1;32m   1656\u001b[0m             \u001b[0;32mreturn\u001b[0m \u001b[0mblock\u001b[0m\u001b[0;34m.\u001b[0m\u001b[0mget\u001b[0m\u001b[0;34m(\u001b[0m\u001b[0mitem\u001b[0m\u001b[0;34m)\u001b[0m\u001b[0;34m\u001b[0m\u001b[0m\n\u001b[1;32m   1657\u001b[0m         \u001b[0;32melse\u001b[0m\u001b[0;34m:\u001b[0m\u001b[0;34m\u001b[0m\u001b[0m\n", 
        "\u001b[0;32m/usr/lib/pymodules/python2.7/pandas/core/internals.pyc\u001b[0m in \u001b[0;36m_find_block\u001b[0;34m(self, item)\u001b[0m\n\u001b[1;32m   1933\u001b[0m \u001b[0;34m\u001b[0m\u001b[0m\n\u001b[1;32m   1934\u001b[0m     \u001b[0;32mdef\u001b[0m \u001b[0m_find_block\u001b[0m\u001b[0;34m(\u001b[0m\u001b[0mself\u001b[0m\u001b[0;34m,\u001b[0m \u001b[0mitem\u001b[0m\u001b[0;34m)\u001b[0m\u001b[0;34m:\u001b[0m\u001b[0;34m\u001b[0m\u001b[0m\n\u001b[0;32m-> 1935\u001b[0;31m         \u001b[0mself\u001b[0m\u001b[0;34m.\u001b[0m\u001b[0m_check_have\u001b[0m\u001b[0;34m(\u001b[0m\u001b[0mitem\u001b[0m\u001b[0;34m)\u001b[0m\u001b[0;34m\u001b[0m\u001b[0m\n\u001b[0m\u001b[1;32m   1936\u001b[0m         \u001b[0;32mfor\u001b[0m \u001b[0mi\u001b[0m\u001b[0;34m,\u001b[0m \u001b[0mblock\u001b[0m \u001b[0;32min\u001b[0m \u001b[0menumerate\u001b[0m\u001b[0;34m(\u001b[0m\u001b[0mself\u001b[0m\u001b[0;34m.\u001b[0m\u001b[0mblocks\u001b[0m\u001b[0;34m)\u001b[0m\u001b[0;34m:\u001b[0m\u001b[0;34m\u001b[0m\u001b[0m\n\u001b[1;32m   1937\u001b[0m             \u001b[0;32mif\u001b[0m \u001b[0mitem\u001b[0m \u001b[0;32min\u001b[0m \u001b[0mblock\u001b[0m\u001b[0;34m:\u001b[0m\u001b[0;34m\u001b[0m\u001b[0m\n", 
        "\u001b[0;32m/usr/lib/pymodules/python2.7/pandas/core/internals.pyc\u001b[0m in \u001b[0;36m_check_have\u001b[0;34m(self, item)\u001b[0m\n\u001b[1;32m   1940\u001b[0m     \u001b[0;32mdef\u001b[0m \u001b[0m_check_have\u001b[0m\u001b[0;34m(\u001b[0m\u001b[0mself\u001b[0m\u001b[0;34m,\u001b[0m \u001b[0mitem\u001b[0m\u001b[0;34m)\u001b[0m\u001b[0;34m:\u001b[0m\u001b[0;34m\u001b[0m\u001b[0m\n\u001b[1;32m   1941\u001b[0m         \u001b[0;32mif\u001b[0m \u001b[0mitem\u001b[0m \u001b[0;32mnot\u001b[0m \u001b[0;32min\u001b[0m \u001b[0mself\u001b[0m\u001b[0;34m.\u001b[0m\u001b[0mitems\u001b[0m\u001b[0;34m:\u001b[0m\u001b[0;34m\u001b[0m\u001b[0m\n\u001b[0;32m-> 1942\u001b[0;31m             \u001b[0;32mraise\u001b[0m \u001b[0mKeyError\u001b[0m\u001b[0;34m(\u001b[0m\u001b[0;34m'no item named %s'\u001b[0m \u001b[0;34m%\u001b[0m \u001b[0mcom\u001b[0m\u001b[0;34m.\u001b[0m\u001b[0mpprint_thing\u001b[0m\u001b[0;34m(\u001b[0m\u001b[0mitem\u001b[0m\u001b[0;34m)\u001b[0m\u001b[0;34m)\u001b[0m\u001b[0;34m\u001b[0m\u001b[0m\n\u001b[0m\u001b[1;32m   1943\u001b[0m \u001b[0;34m\u001b[0m\u001b[0m\n\u001b[1;32m   1944\u001b[0m     \u001b[0;32mdef\u001b[0m \u001b[0mreindex_axis\u001b[0m\u001b[0;34m(\u001b[0m\u001b[0mself\u001b[0m\u001b[0;34m,\u001b[0m \u001b[0mnew_axis\u001b[0m\u001b[0;34m,\u001b[0m \u001b[0mmethod\u001b[0m\u001b[0;34m=\u001b[0m\u001b[0mNone\u001b[0m\u001b[0;34m,\u001b[0m \u001b[0maxis\u001b[0m\u001b[0;34m=\u001b[0m\u001b[0;36m0\u001b[0m\u001b[0;34m,\u001b[0m \u001b[0mcopy\u001b[0m\u001b[0;34m=\u001b[0m\u001b[0mTrue\u001b[0m\u001b[0;34m)\u001b[0m\u001b[0;34m:\u001b[0m\u001b[0;34m\u001b[0m\u001b[0m\n", 
        "\u001b[0;31mKeyError\u001b[0m: u'no item named 2012'"
       ]
      }
     ], 
     "prompt_number": 70
    }, 
    {
     "cell_type": "code", 
     "collapsed": false, 
     "input": [
      "pwd"
     ], 
     "language": "python", 
     "outputs": [
      {
       "output_type": "pyout", 
       "prompt_number": 93, 
       "text": [
        "u'/home/ashwin/workspace/pesit/stat'"
       ]
      }
     ], 
     "prompt_number": 93
    }, 
    {
     "cell_type": "code", 
     "collapsed": true, 
     "input": [
      "gdp=pd.read_csv('data/gdp.csv',encoding='utf-8')"
     ], 
     "language": "python", 
     "outputs": [], 
     "prompt_number": 131
    }, 
    {
     "cell_type": "code", 
     "collapsed": false, 
     "input": [
      "gdp.index"
     ], 
     "language": "python", 
     "outputs": [
      {
       "output_type": "pyout", 
       "prompt_number": 137, 
       "text": [
        "Index([u'Abkhazia', u'Afghanistan', u'Akrotiri and Dhekelia', u'Albania', u'Algeria', u'American Samoa', u'Andorra', u'Angola', u'Anguilla', u'Antigua and Barbuda', u'Argentina', u'Armenia', u'Aruba', u'Australia', u'Austria', u'Azerbaijan', u'Bahamas', u'Bahrain', u'Bangladesh', u'Barbados', u'Belarus', u'Belgium', u'Belize', u'Benin', u'Bermuda', u'Bhutan', u'Bolivia', u'Bosnia and Herzegovina', u'Botswana', u'Brazil', u'British Virgin Islands', u'Brunei', u'Bulgaria', u'Burkina Faso', u'Burundi', u'Cambodia', u'Cameroon', u'Canada', u'Cape Verde', u'Cayman Islands', u'Central African Rep.', u'Chad', u'Channel Islands', u'Chile', u'China', u'Christmas Island', u'Cocos Island', u'Colombia', u'Comoros', u'Congo, Dem. Rep.', u'Congo, Rep.', u'Cook Islands', u'Costa Rica', u'Cote d'Ivoire', u'Croatia', u'Cuba', u'Cyprus', u'Czech Rep.', u'Czechoslovakia', u'Denmark', u'Djibouti', u'Dominica', u'Dominican Rep.', u'East Germany', u'Ecuador', u'Egypt', u'El Salvador', u'Equatorial Guinea', u'Eritrea', u'Eritrea and Ethiopia', u'Estonia', u'Ethiopia', u'Faeroe Islands', u'Falkland Islands (Malvinas)', u'Fiji', u'Finland', u'France', u'French Guiana', u'French Polynesia', u'Gabon', u'Gambia', u'Georgia', u'Germany', u'Ghana', u'Gibraltar', u'Greece', u'Greenland', u'Grenada', u'Guadeloupe', u'Guam', u'Guatemala', u'Guernsey', u'Guinea', u'Guinea-Bissau', u'Guyana', u'Haiti', u'Holy See', u'Honduras', u'Hong Kong, China', u'Hungary', u'Iceland', u'India', u'Indonesia', u'Iran', u'Iraq', u'Ireland', u'Isle of Man', u'Israel', u'Italy', u'Jamaica', u'Japan', u'Jersey', u'Jordan', u'Kazakhstan', u'Kenya', u'Kiribati', u'Korea, Dem. Rep.', u'Korea, Rep.', u'Korea, United', u'Kosovo', u'Kuwait', u'Kyrgyzstan', u'Laos', u'Latvia', u'Lebanon', u'Lesotho', u'Liberia', u'Libya', u'Liechtenstein', u'Lithuania', u'Luxembourg', u'Macao, China', u'Macedonia, FYR', u'Madagascar', u'Malawi', u'Malaysia', u'Maldives', u'Mali', u'Malta', u'Marshall Islands', u'Martinique', u'Mauritania', u'Mauritius', u'Mayotte', u'Mexico', u'Micronesia, Fed. Sts.', u'Moldova', u'Monaco', u'Mongolia', u'Montenegro', u'Montserrat', u'Morocco', u'Mozambique', u'Myanmar', u'Nagorno-Karabakh', u'Namibia', u'Nauru', u'Nepal', u'Netherlands', u'Netherlands Antilles', u'New Caledonia', u'New Zealand', u'Nicaragua', u'Niger', u'Nigeria', u'Niue', u'Norfolk Island', u'Northern Cyprus', u'Northern Mariana Islands', u'Norway', u'Oman', u'Pakistan', u'Palau', u'Panama', u'Papua New Guinea', u'Paraguay', u'Peru', u'Philippines', u'Pitcairn', u'Poland', u'Portugal', u'Puerto Rico', u'Qatar', u'Reunion', u'Romania', u'Russia', u'Rwanda', u'Saint Barth\u00e9lemy', u'Saint Helena', u'Saint Kitts and Nevis', u'Saint Lucia', u'Saint Martin', u'Saint Vincent and the Grenadines', u'Saint-Pierre-et-Miquelon', u'Samoa', u'San Marino', u'Sao Tome and Principe', u'Saudi Arabia', u'Senegal', u'Serbia', u'Serbia and Montenegro', u'Serbia excluding Kosovo', u'Seychelles', u'Sierra Leone', u'Singapore', u'Slovak Republic', u'Slovenia', u'Solomon Islands', u'Somalia', u'Somaliland', u'South Africa', u'South Ossetia', u'South Sudan', u'Spain', u'Sri Lanka', u'Sudan', u'Suriname', u'Svalbard', u'Swaziland', u'Sweden', u'Switzerland', u'Syria', u'Taiwan', u'Tajikistan', u'Tanzania', u'Thailand', u'Timor-Leste', u'Togo', u'Tokelau', u'Tonga', u'Transnistria', u'Trinidad and Tobago', u'Tunisia', u'Turkey', u'Turkmenistan', u'Turks and Caicos Islands', u'Tuvalu', u'Uganda', u'Ukraine', u'United Arab Emirates', u'United Kingdom', u'United States', u'Uruguay', u'USSR', u'Uzbekistan', u'Wallis et Futuna', u'Vanuatu', u'Venezuela', u'West Bank and Gaza', u'West Germany', u'Western Sahara', u'Vietnam', u'Virgin Islands (U.S.)', u'Yemen Arab Republic (Former)', u'Yemen Democratic (Former)', u'Yemen, Rep.', u'Yugoslavia', u'Zambia', u'Zimbabwe', u'\u00c5land'], dtype=object)"
       ]
      }
     ], 
     "prompt_number": 137
    }, 
    {
     "cell_type": "code", 
     "collapsed": false, 
     "input": [
      "gdp.columns"
     ], 
     "language": "python", 
     "outputs": [
      {
       "output_type": "pyout", 
       "prompt_number": 136, 
       "text": [
        "Index([u'1764', u'1765', u'1766', u'1767', u'1768', u'1769', u'1770', u'1771', u'1772', u'1773', u'1774', u'1775', u'1776', u'1777', u'1778', u'1779', u'1780', u'1781', u'1782', u'1783', u'1784', u'1785', u'1786', u'1787', u'1788', u'1789', u'1790', u'1791', u'1792', u'1793', u'1794', u'1795', u'1796', u'1797', u'1798', u'1799', u'1800', u'1801', u'1802', u'1803', u'1804', u'1805', u'1806', u'1807', u'1808', u'1809', u'1810', u'1811', u'1812', u'1813', u'1814', u'1815', u'1816', u'1817', u'1818', u'1819', u'1820', u'1821', u'1822', u'1823', u'1824', u'1825', u'1826', u'1827', u'1828', u'1829', u'1830', u'1831', u'1832', u'1833', u'1834', u'1835', u'1836', u'1837', u'1838', u'1839', u'1840', u'1841', u'1842', u'1843', u'1844', u'1845', u'1846', u'1847', u'1848', u'1849', u'1850', u'1851', u'1852', u'1853', u'1854', u'1855', u'1856', u'1857', u'1858', u'1859', u'1860', u'1861', u'1862', u'1863', u'1864', u'1865', u'1866', u'1867', u'1868', u'1869', u'1870', u'1871', u'1872', u'1873', u'1874', u'1875', u'1876', u'1877', u'1878', u'1879', u'1880', u'1881', u'1882', u'1883', u'1884', u'1885', u'1886', u'1887', u'1888', u'1889', u'1890', u'1891', u'1892', u'1893', u'1894', u'1895', u'1896', u'1897', u'1898', u'1899', u'1900', u'1901', u'1902', u'1903', u'1904', u'1905', u'1906', u'1907', u'1908', u'1909', u'1910', u'1911', u'1912', u'1913', u'1914', u'1915', u'1916', u'1917', u'1918', u'1919', u'1920', u'1921', u'1922', u'1923', u'1924', u'1925', u'1926', u'1927', u'1928', u'1929', u'1930', u'1931', u'1932', u'1933', u'1934', u'1935', u'1936', u'1937', u'1938', u'1939', u'1940', u'1941', u'1942', u'1943', u'1944', u'1945', u'1946', u'1947', u'1948', u'1949', u'1950', u'1951', u'1952', u'1953', u'1954', u'1955', u'1956', u'1957', u'1958', u'1959', u'1960', u'1961', u'1962', u'1963', u'1964', u'1965', u'1966', u'1967', u'1968', u'1969', u'1970', u'1971', u'1972', u'1973', u'1974', u'1975', u'1976', u'1977', u'1978', u'1979', u'1980', u'1981', u'1982', u'1983', u'1984', u'1985', u'1986', u'1987', u'1988', u'1989', u'1990', u'1991', u'1992', u'1993', u'1994', u'1995', u'1996', u'1997', u'1998', u'1999', u'2000', u'2001', u'2002', u'2003', u'2004', u'2005', u'2006', u'2007', u'2008', u'2009', u'2010', u'2011', u'2012', u'2013', u'2014', u'2015', u'2016', u'2017', u'2018'], dtype=object)"
       ]
      }
     ], 
     "prompt_number": 136
    }, 
    {
     "cell_type": "code", 
     "collapsed": false, 
     "input": [
      "gdp.columns"
     ], 
     "language": "python", 
     "outputs": [
      {
       "output_type": "pyout", 
       "prompt_number": 134, 
       "text": [
        "Index([u'GDP', u'1764', u'1765', u'1766', u'1767', u'1768', u'1769', u'1770', u'1771', u'1772', u'1773', u'1774', u'1775', u'1776', u'1777', u'1778', u'1779', u'1780', u'1781', u'1782', u'1783', u'1784', u'1785', u'1786', u'1787', u'1788', u'1789', u'1790', u'1791', u'1792', u'1793', u'1794', u'1795', u'1796', u'1797', u'1798', u'1799', u'1800', u'1801', u'1802', u'1803', u'1804', u'1805', u'1806', u'1807', u'1808', u'1809', u'1810', u'1811', u'1812', u'1813', u'1814', u'1815', u'1816', u'1817', u'1818', u'1819', u'1820', u'1821', u'1822', u'1823', u'1824', u'1825', u'1826', u'1827', u'1828', u'1829', u'1830', u'1831', u'1832', u'1833', u'1834', u'1835', u'1836', u'1837', u'1838', u'1839', u'1840', u'1841', u'1842', u'1843', u'1844', u'1845', u'1846', u'1847', u'1848', u'1849', u'1850', u'1851', u'1852', u'1853', u'1854', u'1855', u'1856', u'1857', u'1858', u'1859', u'1860', u'1861', u'1862', u'1863', u'1864', u'1865', u'1866', u'1867', u'1868', u'1869', u'1870', u'1871', u'1872', u'1873', u'1874', u'1875', u'1876', u'1877', u'1878', u'1879', u'1880', u'1881', u'1882', u'1883', u'1884', u'1885', u'1886', u'1887', u'1888', u'1889', u'1890', u'1891', u'1892', u'1893', u'1894', u'1895', u'1896', u'1897', u'1898', u'1899', u'1900', u'1901', u'1902', u'1903', u'1904', u'1905', u'1906', u'1907', u'1908', u'1909', u'1910', u'1911', u'1912', u'1913', u'1914', u'1915', u'1916', u'1917', u'1918', u'1919', u'1920', u'1921', u'1922', u'1923', u'1924', u'1925', u'1926', u'1927', u'1928', u'1929', u'1930', u'1931', u'1932', u'1933', u'1934', u'1935', u'1936', u'1937', u'1938', u'1939', u'1940', u'1941', u'1942', u'1943', u'1944', u'1945', u'1946', u'1947', u'1948', u'1949', u'1950', u'1951', u'1952', u'1953', u'1954', u'1955', u'1956', u'1957', u'1958', u'1959', u'1960', u'1961', u'1962', u'1963', u'1964', u'1965', u'1966', u'1967', u'1968', u'1969', u'1970', u'1971', u'1972', u'1973', u'1974', u'1975', u'1976', u'1977', u'1978', u'1979', u'1980', u'1981', u'1982', u'1983', u'1984', u'1985', u'1986', u'1987', u'1988', u'1989', u'1990', u'1991', u'1992', u'1993', u'1994', u'1995', u'1996', u'1997', u'1998', u'1999', u'2000', u'2001', u'2002', u'2003', u'2004', u'2005', u'2006', u'2007', u'2008', u'2009', u'2010', u'2011', u'2012', u'2013', u'2014', u'2015', u'2016', u'2017', u'2018'], dtype=object)"
       ]
      }
     ], 
     "prompt_number": 134
    }, 
    {
     "cell_type": "code", 
     "collapsed": false, 
     "input": [
      "gdp.index"
     ], 
     "language": "python", 
     "outputs": [
      {
       "output_type": "pyout", 
       "prompt_number": 143, 
       "text": [
        "Index([u'Abkhazia', u'Afghanistan', u'Akrotiri and Dhekelia', u'Albania', u'Algeria', u'American Samoa', u'Andorra', u'Angola', u'Anguilla', u'Antigua and Barbuda', u'Argentina', u'Armenia', u'Aruba', u'Australia', u'Austria', u'Azerbaijan', u'Bahamas', u'Bahrain', u'Bangladesh', u'Barbados', u'Belarus', u'Belgium', u'Belize', u'Benin', u'Bermuda', u'Bhutan', u'Bolivia', u'Bosnia and Herzegovina', u'Botswana', u'Brazil', u'British Virgin Islands', u'Brunei', u'Bulgaria', u'Burkina Faso', u'Burundi', u'Cambodia', u'Cameroon', u'Canada', u'Cape Verde', u'Cayman Islands', u'Central African Rep.', u'Chad', u'Channel Islands', u'Chile', u'China', u'Christmas Island', u'Cocos Island', u'Colombia', u'Comoros', u'Congo, Dem. Rep.', u'Congo, Rep.', u'Cook Islands', u'Costa Rica', u'Cote d'Ivoire', u'Croatia', u'Cuba', u'Cyprus', u'Czech Rep.', u'Czechoslovakia', u'Denmark', u'Djibouti', u'Dominica', u'Dominican Rep.', u'East Germany', u'Ecuador', u'Egypt', u'El Salvador', u'Equatorial Guinea', u'Eritrea', u'Eritrea and Ethiopia', u'Estonia', u'Ethiopia', u'Faeroe Islands', u'Falkland Islands (Malvinas)', u'Fiji', u'Finland', u'France', u'French Guiana', u'French Polynesia', u'Gabon', u'Gambia', u'Georgia', u'Germany', u'Ghana', u'Gibraltar', u'Greece', u'Greenland', u'Grenada', u'Guadeloupe', u'Guam', u'Guatemala', u'Guernsey', u'Guinea', u'Guinea-Bissau', u'Guyana', u'Haiti', u'Holy See', u'Honduras', u'Hong Kong, China', u'Hungary', u'Iceland', u'India', u'Indonesia', u'Iran', u'Iraq', u'Ireland', u'Isle of Man', u'Israel', u'Italy', u'Jamaica', u'Japan', u'Jersey', u'Jordan', u'Kazakhstan', u'Kenya', u'Kiribati', u'Korea, Dem. Rep.', u'Korea, Rep.', u'Korea, United', u'Kosovo', u'Kuwait', u'Kyrgyzstan', u'Laos', u'Latvia', u'Lebanon', u'Lesotho', u'Liberia', u'Libya', u'Liechtenstein', u'Lithuania', u'Luxembourg', u'Macao, China', u'Macedonia, FYR', u'Madagascar', u'Malawi', u'Malaysia', u'Maldives', u'Mali', u'Malta', u'Marshall Islands', u'Martinique', u'Mauritania', u'Mauritius', u'Mayotte', u'Mexico', u'Micronesia, Fed. Sts.', u'Moldova', u'Monaco', u'Mongolia', u'Montenegro', u'Montserrat', u'Morocco', u'Mozambique', u'Myanmar', u'Nagorno-Karabakh', u'Namibia', u'Nauru', u'Nepal', u'Netherlands', u'Netherlands Antilles', u'New Caledonia', u'New Zealand', u'Nicaragua', u'Niger', u'Nigeria', u'Niue', u'Norfolk Island', u'Northern Cyprus', u'Northern Mariana Islands', u'Norway', u'Oman', u'Pakistan', u'Palau', u'Panama', u'Papua New Guinea', u'Paraguay', u'Peru', u'Philippines', u'Pitcairn', u'Poland', u'Portugal', u'Puerto Rico', u'Qatar', u'Reunion', u'Romania', u'Russia', u'Rwanda', u'Saint Barth\u00e9lemy', u'Saint Helena', u'Saint Kitts and Nevis', u'Saint Lucia', u'Saint Martin', u'Saint Vincent and the Grenadines', u'Saint-Pierre-et-Miquelon', u'Samoa', u'San Marino', u'Sao Tome and Principe', u'Saudi Arabia', u'Senegal', u'Serbia', u'Serbia and Montenegro', u'Serbia excluding Kosovo', u'Seychelles', u'Sierra Leone', u'Singapore', u'Slovak Republic', u'Slovenia', u'Solomon Islands', u'Somalia', u'Somaliland', u'South Africa', u'South Ossetia', u'South Sudan', u'Spain', u'Sri Lanka', u'Sudan', u'Suriname', u'Svalbard', u'Swaziland', u'Sweden', u'Switzerland', u'Syria', u'Taiwan', u'Tajikistan', u'Tanzania', u'Thailand', u'Timor-Leste', u'Togo', u'Tokelau', u'Tonga', u'Transnistria', u'Trinidad and Tobago', u'Tunisia', u'Turkey', u'Turkmenistan', u'Turks and Caicos Islands', u'Tuvalu', u'Uganda', u'Ukraine', u'United Arab Emirates', u'United Kingdom', u'United States', u'Uruguay', u'USSR', u'Uzbekistan', u'Wallis et Futuna', u'Vanuatu', u'Venezuela', u'West Bank and Gaza', u'West Germany', u'Western Sahara', u'Vietnam', u'Virgin Islands (U.S.)', u'Yemen Arab Republic (Former)', u'Yemen Democratic (Former)', u'Yemen, Rep.', u'Yugoslavia', u'Zambia', u'Zimbabwe', u'\u00c5land'], dtype=object)"
       ]
      }
     ], 
     "prompt_number": 143
    }, 
    {
     "cell_type": "code", 
     "collapsed": false, 
     "input": [
      "gdp.loc['India','1998':'2010']"
     ], 
     "language": "python", 
     "outputs": [
      {
       "output_type": "pyout", 
       "prompt_number": 147, 
       "text": [
        "1998    1543.117596", 
        "1999    1606.866972", 
        "2000    1648.208780", 
        "2001    1714.150694", 
        "2002    1754.034412", 
        "2003    1872.383626", 
        "2004    1981.021662", 
        "2005    2126.000000", 
        "2006    2292.640805", 
        "2007    2488.328850", 
        "2008    2605.770925", 
        "2009    2699.732953", 
        "2010    2961.173360", 
        "dtype: float64"
       ]
      }
     ], 
     "prompt_number": 147
    }, 
    {
     "cell_type": "code", 
     "collapsed": false, 
     "input": [
      "list(gdp.columns)"
     ], 
     "language": "python", 
     "outputs": [
      {
       "output_type": "pyout", 
       "prompt_number": 149, 
       "text": [
        "[u'1764',", 
        " u'1765',", 
        " u'1766',", 
        " u'1767',", 
        " u'1768',", 
        " u'1769',", 
        " u'1770',", 
        " u'1771',", 
        " u'1772',", 
        " u'1773',", 
        " u'1774',", 
        " u'1775',", 
        " u'1776',", 
        " u'1777',", 
        " u'1778',", 
        " u'1779',", 
        " u'1780',", 
        " u'1781',", 
        " u'1782',", 
        " u'1783',", 
        " u'1784',", 
        " u'1785',", 
        " u'1786',", 
        " u'1787',", 
        " u'1788',", 
        " u'1789',", 
        " u'1790',", 
        " u'1791',", 
        " u'1792',", 
        " u'1793',", 
        " u'1794',", 
        " u'1795',", 
        " u'1796',", 
        " u'1797',", 
        " u'1798',", 
        " u'1799',", 
        " u'1800',", 
        " u'1801',", 
        " u'1802',", 
        " u'1803',", 
        " u'1804',", 
        " u'1805',", 
        " u'1806',", 
        " u'1807',", 
        " u'1808',", 
        " u'1809',", 
        " u'1810',", 
        " u'1811',", 
        " u'1812',", 
        " u'1813',", 
        " u'1814',", 
        " u'1815',", 
        " u'1816',", 
        " u'1817',", 
        " u'1818',", 
        " u'1819',", 
        " u'1820',", 
        " u'1821',", 
        " u'1822',", 
        " u'1823',", 
        " u'1824',", 
        " u'1825',", 
        " u'1826',", 
        " u'1827',", 
        " u'1828',", 
        " u'1829',", 
        " u'1830',", 
        " u'1831',", 
        " u'1832',", 
        " u'1833',", 
        " u'1834',", 
        " u'1835',", 
        " u'1836',", 
        " u'1837',", 
        " u'1838',", 
        " u'1839',", 
        " u'1840',", 
        " u'1841',", 
        " u'1842',", 
        " u'1843',", 
        " u'1844',", 
        " u'1845',", 
        " u'1846',", 
        " u'1847',", 
        " u'1848',", 
        " u'1849',", 
        " u'1850',", 
        " u'1851',", 
        " u'1852',", 
        " u'1853',", 
        " u'1854',", 
        " u'1855',", 
        " u'1856',", 
        " u'1857',", 
        " u'1858',", 
        " u'1859',", 
        " u'1860',", 
        " u'1861',", 
        " u'1862',", 
        " u'1863',", 
        " u'1864',", 
        " u'1865',", 
        " u'1866',", 
        " u'1867',", 
        " u'1868',", 
        " u'1869',", 
        " u'1870',", 
        " u'1871',", 
        " u'1872',", 
        " u'1873',", 
        " u'1874',", 
        " u'1875',", 
        " u'1876',", 
        " u'1877',", 
        " u'1878',", 
        " u'1879',", 
        " u'1880',", 
        " u'1881',", 
        " u'1882',", 
        " u'1883',", 
        " u'1884',", 
        " u'1885',", 
        " u'1886',", 
        " u'1887',", 
        " u'1888',", 
        " u'1889',", 
        " u'1890',", 
        " u'1891',", 
        " u'1892',", 
        " u'1893',", 
        " u'1894',", 
        " u'1895',", 
        " u'1896',", 
        " u'1897',", 
        " u'1898',", 
        " u'1899',", 
        " u'1900',", 
        " u'1901',", 
        " u'1902',", 
        " u'1903',", 
        " u'1904',", 
        " u'1905',", 
        " u'1906',", 
        " u'1907',", 
        " u'1908',", 
        " u'1909',", 
        " u'1910',", 
        " u'1911',", 
        " u'1912',", 
        " u'1913',", 
        " u'1914',", 
        " u'1915',", 
        " u'1916',", 
        " u'1917',", 
        " u'1918',", 
        " u'1919',", 
        " u'1920',", 
        " u'1921',", 
        " u'1922',", 
        " u'1923',", 
        " u'1924',", 
        " u'1925',", 
        " u'1926',", 
        " u'1927',", 
        " u'1928',", 
        " u'1929',", 
        " u'1930',", 
        " u'1931',", 
        " u'1932',", 
        " u'1933',", 
        " u'1934',", 
        " u'1935',", 
        " u'1936',", 
        " u'1937',", 
        " u'1938',", 
        " u'1939',", 
        " u'1940',", 
        " u'1941',", 
        " u'1942',", 
        " u'1943',", 
        " u'1944',", 
        " u'1945',", 
        " u'1946',", 
        " u'1947',", 
        " u'1948',", 
        " u'1949',", 
        " u'1950',", 
        " u'1951',", 
        " u'1952',", 
        " u'1953',", 
        " u'1954',", 
        " u'1955',", 
        " u'1956',", 
        " u'1957',", 
        " u'1958',", 
        " u'1959',", 
        " u'1960',", 
        " u'1961',", 
        " u'1962',", 
        " u'1963',", 
        " u'1964',", 
        " u'1965',", 
        " u'1966',", 
        " u'1967',", 
        " u'1968',", 
        " u'1969',", 
        " u'1970',", 
        " u'1971',", 
        " u'1972',", 
        " u'1973',", 
        " u'1974',", 
        " u'1975',", 
        " u'1976',", 
        " u'1977',", 
        " u'1978',", 
        " u'1979',", 
        " u'1980',", 
        " u'1981',", 
        " u'1982',", 
        " u'1983',", 
        " u'1984',", 
        " u'1985',", 
        " u'1986',", 
        " u'1987',", 
        " u'1988',", 
        " u'1989',", 
        " u'1990',", 
        " u'1991',", 
        " u'1992',", 
        " u'1993',", 
        " u'1994',", 
        " u'1995',", 
        " u'1996',", 
        " u'1997',", 
        " u'1998',", 
        " u'1999',", 
        " u'2000',", 
        " u'2001',", 
        " u'2002',", 
        " u'2003',", 
        " u'2004',", 
        " u'2005',", 
        " u'2006',", 
        " u'2007',", 
        " u'2008',", 
        " u'2009',", 
        " u'2010',", 
        " u'2011',", 
        " u'2012',", 
        " u'2013',", 
        " u'2014',", 
        " u'2015',", 
        " u'2016',", 
        " u'2017',", 
        " u'2018']"
       ]
      }
     ], 
     "prompt_number": 149
    }, 
    {
     "cell_type": "code", 
     "collapsed": true, 
     "input": [], 
     "language": "python", 
     "outputs": []
    }
   ]
  }
 ]
}