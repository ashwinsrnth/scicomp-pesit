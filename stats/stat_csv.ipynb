{
 "metadata": {
  "name": "stat_csv"
 }, 
 "nbformat": 2, 
 "worksheets": [
  {
   "cells": [
    {
     "cell_type": "code", 
     "collapsed": true, 
     "input": [
      "import pandas as pd"
     ], 
     "language": "python", 
     "outputs": [], 
     "prompt_number": 2
    }, 
    {
     "cell_type": "markdown", 
     "source": [
      "Read all the data from the csv files into 'dataframes'"
     ]
    }, 
    {
     "cell_type": "code", 
     "collapsed": true, 
     "input": [
      "cell = pd.read_csv('cellphoneper100.csv', encoding='utf-8')", 
      "gdp = pd.read_csv('gdppercapita_with_projections.csv', encoding='utf-8')", 
      "dem = pd.read_csv('indicatorpolityiv.csv', encoding='utf-8')"
     ], 
     "language": "python", 
     "outputs": [], 
     "prompt_number": 3
    }, 
    {
     "cell_type": "markdown", 
     "source": [
      "Set the indexing column as 'Country'", 
      "This will let you refer to rows by country name rather than an integer index (which was what it was)"
     ]
    }, 
    {
     "cell_type": "code", 
     "collapsed": true, 
     "input": [
      "cell = cell.set_index('Country')", 
      "gdp = gdp.set_index('Country')", 
      "dem = dem.set_index('Country')"
     ], 
     "language": "python", 
     "outputs": [], 
     "prompt_number": 4
    }, 
    {
     "cell_type": "markdown", 
     "source": [
      "Here, you will define what data you want. ", 
      "'countries' is a list of the countries you require.", 
      "'years' is a list of strings corresponding to the years you require."
     ]
    }, 
    {
     "cell_type": "code", 
     "collapsed": true, 
     "input": [
      "countries = ['France', 'Germany', 'Australia', 'Egypt', 'Sweden', 'India', 'Greece', 'China', 'Nigeria', 'Netherlands']", 
      "years = range(2000, 2010)", 
      "years = [str(year) for year in years]"
     ], 
     "language": "python", 
     "outputs": [], 
     "prompt_number": 5
    }, 
    {
     "cell_type": "markdown", 
     "source": [
      "Gather the required data from each dataset and store."
     ]
    }, 
    {
     "cell_type": "code", 
     "collapsed": true, 
     "input": [
      "cell_dat = cell.loc[countries, years]", 
      "gdp_dat = gdp.loc[countries, years]", 
      "dem_dat = dem.loc[countries, years]"
     ], 
     "language": "python", 
     "outputs": [], 
     "prompt_number": 6
    }, 
    {
     "cell_type": "code", 
     "collapsed": false, 
     "input": [
      "cell_dat.loc[countries, years]"
     ], 
     "language": "python", 
     "outputs": [
      {
       "html": [
        "<div style=\"max-height:1000px;max-width:1500px;overflow:auto;\">", 
        "<table border=\"1\" class=\"dataframe\">", 
        "  <thead>", 
        "    <tr style=\"text-align: right;\">", 
        "      <th></th>", 
        "      <th>2000</th>", 
        "      <th>2001</th>", 
        "      <th>2002</th>", 
        "      <th>2003</th>", 
        "      <th>2004</th>", 
        "      <th>2005</th>", 
        "      <th>2006</th>", 
        "      <th>2007</th>", 
        "      <th>2008</th>", 
        "      <th>2009</th>", 
        "    </tr>", 
        "  </thead>", 
        "  <tbody>", 
        "    <tr>", 
        "      <th>France</th>", 
        "      <td> 49.201431</td>", 
        "      <td> 62.294917</td>", 
        "      <td> 64.551406</td>", 
        "      <td> 69.290975</td>", 
        "      <td> 73.508964</td>", 
        "      <td>  78.837303</td>", 
        "      <td>  84.170135</td>", 
        "      <td>  89.656591</td>", 
        "      <td>  93.355043</td>", 
        "      <td>  95.444342</td>", 
        "    </tr>", 
        "    <tr>", 
        "      <th>Germany</th>", 
        "      <td> 58.533782</td>", 
        "      <td> 68.127095</td>", 
        "      <td> 71.729403</td>", 
        "      <td> 78.560585</td>", 
        "      <td> 86.425408</td>", 
        "      <td>  96.038636</td>", 
        "      <td> 103.775149</td>", 
        "      <td> 116.622932</td>", 
        "      <td> 127.945096</td>", 
        "      <td> 127.418888</td>", 
        "    </tr>", 
        "    <tr>", 
        "      <th>Australia</th>", 
        "      <td> 44.676702</td>", 
        "      <td> 57.434176</td>", 
        "      <td> 64.629499</td>", 
        "      <td> 72.313071</td>", 
        "      <td> 81.974462</td>", 
        "      <td>  90.278540</td>", 
        "      <td>  95.255105</td>", 
        "      <td> 100.662936</td>", 
        "      <td> 102.817645</td>", 
        "      <td> 101.359218</td>", 
        "    </tr>", 
        "    <tr>", 
        "      <th>Egypt</th>", 
        "      <td>  2.010247</td>", 
        "      <td>  4.055567</td>", 
        "      <td>  6.405021</td>", 
        "      <td>  8.108611</td>", 
        "      <td> 10.492224</td>", 
        "      <td>  18.367940</td>", 
        "      <td>  23.820927</td>", 
        "      <td>  39.112371</td>", 
        "      <td>  52.713130</td>", 
        "      <td>  69.436615</td>", 
        "    </tr>", 
        "    <tr>", 
        "      <th>Sweden</th>", 
        "      <td> 71.920880</td>", 
        "      <td> 80.860451</td>", 
        "      <td> 89.296236</td>", 
        "      <td> 98.495959</td>", 
        "      <td> 97.850682</td>", 
        "      <td> 100.826804</td>", 
        "      <td> 105.679349</td>", 
        "      <td> 110.429418</td>", 
        "      <td> 108.413324</td>", 
        "      <td> 112.124118</td>", 
        "    </tr>", 
        "    <tr>", 
        "      <th>India</th>", 
        "      <td>  0.339416</td>", 
        "      <td>  0.610431</td>", 
        "      <td>  1.194091</td>", 
        "      <td>  3.046427</td>", 
        "      <td>  4.650081</td>", 
        "      <td>   7.906720</td>", 
        "      <td>  14.351294</td>", 
        "      <td>  19.899970</td>", 
        "      <td>  29.129279</td>", 
        "      <td>  43.477058</td>", 
        "    </tr>", 
        "    <tr>", 
        "      <th>Greece</th>", 
        "      <td> 53.995323</td>", 
        "      <td> 72.185070</td>", 
        "      <td> 84.114324</td>", 
        "      <td> 80.426101</td>", 
        "      <td> 83.646871</td>", 
        "      <td>  91.749007</td>", 
        "      <td>  97.865517</td>", 
        "      <td> 109.232597</td>", 
        "      <td> 122.206658</td>", 
        "      <td> 117.379423</td>", 
        "    </tr>", 
        "    <tr>", 
        "      <th>China</th>", 
        "      <td>  6.718058</td>", 
        "      <td> 11.332623</td>", 
        "      <td> 16.019876</td>", 
        "      <td> 20.871633</td>", 
        "      <td> 25.744758</td>", 
        "      <td>  30.086262</td>", 
        "      <td>  35.072609</td>", 
        "      <td>  41.416079</td>", 
        "      <td>  48.276505</td>", 
        "      <td>  55.974909</td>", 
        "    </tr>", 
        "    <tr>", 
        "      <th>Nigeria</th>", 
        "      <td>  0.024254</td>", 
        "      <td>  0.210301</td>", 
        "      <td>  1.208519</td>", 
        "      <td>  2.366831</td>", 
        "      <td>  6.706193</td>", 
        "      <td>  13.293203</td>", 
        "      <td>  22.549492</td>", 
        "      <td>  27.489081</td>", 
        "      <td>  41.806781</td>", 
        "      <td>  48.235610</td>", 
        "    </tr>", 
        "    <tr>", 
        "      <th>Netherlands</th>", 
        "      <td> 67.800029</td>", 
        "      <td> 76.472506</td>", 
        "      <td> 75.408507</td>", 
        "      <td> 81.795997</td>", 
        "      <td> 91.216746</td>", 
        "      <td>  97.108594</td>", 
        "      <td> 105.605344</td>", 
        "      <td> 117.280506</td>", 
        "      <td> 124.987404</td>", 
        "      <td> 121.678084</td>", 
        "    </tr>", 
        "  </tbody>", 
        "</table>", 
        "</div>"
       ], 
       "output_type": "pyout", 
       "prompt_number": 7, 
       "text": [
        "                  2000       2001       2002       2003       2004  \\", 
        "France       49.201431  62.294917  64.551406  69.290975  73.508964   ", 
        "Germany      58.533782  68.127095  71.729403  78.560585  86.425408   ", 
        "Australia    44.676702  57.434176  64.629499  72.313071  81.974462   ", 
        "Egypt         2.010247   4.055567   6.405021   8.108611  10.492224   ", 
        "Sweden       71.920880  80.860451  89.296236  98.495959  97.850682   ", 
        "India         0.339416   0.610431   1.194091   3.046427   4.650081   ", 
        "Greece       53.995323  72.185070  84.114324  80.426101  83.646871   ", 
        "China         6.718058  11.332623  16.019876  20.871633  25.744758   ", 
        "Nigeria       0.024254   0.210301   1.208519   2.366831   6.706193   ", 
        "Netherlands  67.800029  76.472506  75.408507  81.795997  91.216746   ", 
        "", 
        "                   2005        2006        2007        2008        2009  ", 
        "France        78.837303   84.170135   89.656591   93.355043   95.444342  ", 
        "Germany       96.038636  103.775149  116.622932  127.945096  127.418888  ", 
        "Australia     90.278540   95.255105  100.662936  102.817645  101.359218  ", 
        "Egypt         18.367940   23.820927   39.112371   52.713130   69.436615  ", 
        "Sweden       100.826804  105.679349  110.429418  108.413324  112.124118  ", 
        "India          7.906720   14.351294   19.899970   29.129279   43.477058  ", 
        "Greece        91.749007   97.865517  109.232597  122.206658  117.379423  ", 
        "China         30.086262   35.072609   41.416079   48.276505   55.974909  ", 
        "Nigeria       13.293203   22.549492   27.489081   41.806781   48.235610  ", 
        "Netherlands   97.108594  105.605344  117.280506  124.987404  121.678084  "
       ]
      }
     ], 
     "prompt_number": 7
    }, 
    {
     "cell_type": "code", 
     "collapsed": false, 
     "input": [
      "len(M)"
     ], 
     "language": "python", 
     "outputs": [
      {
       "output_type": "pyout", 
       "prompt_number": 27, 
       "text": [
        "10"
       ]
      }
     ], 
     "prompt_number": 27
    }, 
    {
     "cell_type": "code", 
     "collapsed": false, 
     "input": [
      "for i in range(len(M)): plot(M[i,:])"
     ], 
     "language": "python", 
     "outputs": [
      {
       "output_type": "display_data", 
       "png": "[encoded data removed]"
      }
     ], 
     "prompt_number": 30
    }, 
    {
     "cell_type": "code", 
     "collapsed": true, 
     "input": [], 
     "language": "python", 
     "outputs": []
    }
   ]
  }
 ]
}