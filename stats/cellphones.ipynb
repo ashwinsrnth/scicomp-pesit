{
 "metadata": {
  "name": "cellphones"
 }, 
 "nbformat": 2, 
 "worksheets": [
  {
   "cells": [
    {
     "cell_type": "code", 
     "collapsed": true, 
     "input": [
      "import pandas as pd", 
      "import numpy as np"
     ], 
     "language": "python", 
     "outputs": [], 
     "prompt_number": 71
    }, 
    {
     "cell_type": "code", 
     "collapsed": false, 
     "input": [
      "pwd"
     ], 
     "language": "python", 
     "outputs": [
      {
       "output_type": "pyout", 
       "prompt_number": 72, 
       "text": [
        "u'/home/ashwin/workspace/pesit/stats'"
       ]
      }
     ], 
     "prompt_number": 72
    }, 
    {
     "cell_type": "code", 
     "collapsed": true, 
     "input": [
      "run visualize.py"
     ], 
     "language": "python", 
     "outputs": [], 
     "prompt_number": 181
    }, 
    {
     "cell_type": "markdown", 
     "source": [
      "## Work with just India: Cell phones vs GDP, Cell phones vs Time, Cell phones vs Democracy"
     ]
    }, 
    {
     "cell_type": "code", 
     "collapsed": false, 
     "input": [
      "ind_cell = "
     ], 
     "language": "python", 
     "outputs": [
      {
       "ename": "SyntaxError", 
       "evalue": "invalid syntax (<ipython-input-176-aba02445cd85>, line 1)", 
       "output_type": "pyerr", 
       "traceback": [
        "\u001b[0;36m  File \u001b[0;32m\"<ipython-input-176-aba02445cd85>\"\u001b[0;36m, line \u001b[0;32m1\u001b[0m\n\u001b[0;31m    ind_cell =\u001b[0m\n\u001b[0m               ^\u001b[0m\n\u001b[0;31mSyntaxError\u001b[0m\u001b[0;31m:\u001b[0m invalid syntax\n"
       ]
      }
     ], 
     "prompt_number": 176
    }, 
    {
     "cell_type": "code", 
     "collapsed": false, 
     "input": [
      "ind_gdp = gdp.loc['India',years]"
     ], 
     "language": "python", 
     "outputs": [], 
     "prompt_number": 177
    }, 
    {
     "cell_type": "code", 
     "collapsed": true, 
     "input": [
      "ind_dem = dem.loc['India',years]"
     ], 
     "language": "python", 
     "outputs": [], 
     "prompt_number": 178
    }, 
    {
     "cell_type": "code", 
     "collapsed": false, 
     "input": [
      "plt.plot(years, gdp.loc['France',years]); "
     ], 
     "language": "python", 
     "outputs": [], 
     "prompt_number": 207
    }, 
    {
     "cell_type": "code", 
     "collapsed": false, 
     "input": [
      "plt.show()"
     ], 
     "language": "python", 
     "outputs": [], 
     "prompt_number": 208
    }, 
    {
     "cell_type": "code", 
     "collapsed": false, 
     "input": [], 
     "language": "python", 
     "outputs": [], 
     "prompt_number": 103
    }, 
    {
     "cell_type": "code", 
     "collapsed": true, 
     "input": [], 
     "language": "python", 
     "outputs": []
    }
   ]
  }
 ]
}